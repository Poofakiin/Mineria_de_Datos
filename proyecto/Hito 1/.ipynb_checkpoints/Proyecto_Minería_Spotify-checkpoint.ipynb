{
 "cells": [
  {
   "cell_type": "markdown",
   "metadata": {
    "id": "RF3FzdI215in"
   },
   "source": [
    "#**Hito 1.** Análisis de canciones: Lo que suena vs. Lo que dice.\n",
    "##Proyecto Minería de Datos\n",
    "Integrantes: \n",
    "- Benjamín Aguilar.\n",
    "- Benjamín Alvial. \n",
    "- Diego Carmona. \n",
    "- Jules Fredes C. \n",
    "- Diego Reyes.\n",
    "\n"
   ]
  },
  {
   "cell_type": "markdown",
   "metadata": {
    "id": "nPXydJ4a3QNm"
   },
   "source": [
    "##1. Introducción\n",
    "La música es una vía de expresión del ser humano y nunca ha dejado de estar presente. Considerando esto, resulta interesante conocer si existe una relación entre características de canciones y el periodo de tiempo en el que fueron creadas. Esta relación puede ser técnica y se podrían estudiar aspectos como la duración, el volumen, el uso de instrumentos, entre otros. Considerando a la música como vía de expresión, resulta aún más interesante estudiar relaciones entre el periodo de creación y los sentimientos que las canciones expresan, que podrían representarse mediante los temas que las letras tocan. Es quizá posible que, en periodos de crisis humanas, las canciones tengan aspectos técnicos y emocionales que vislumbren temas de desánimo. Asimismo, podría ser que haya aspectos tan transversales a la vida humana que se presentan en todo periodo del tiempo, independiente del contexto mundial. \n",
    "\n",
    "Por otro lado, el ser humano se dedica a clasificar lo que sea que exista, incluyendo la música. Por ello, es interesante estudiar la categorización que el mismo ser humano ha creado - el género. Es común pensar que las canciones se definen en términos de género por la forma en que suenan más que de lo que hablan. Por lo tanto, se puede estudiar si esta hipótesis es certera, analizando aspectos técnicos para el sonido y las letras de las canciones para los temas de los que tratan.\n",
    "\n",
    "Los datos a estudiar comprenden canciones creadas de los últimos sesenta años y que están presentes en la plataforma de reproducción de música Spotify. Cada canción tiene atributos técnicos y además atributos que representan emocionalidad, como las letras de las canciones. Por lo tanto, se busca estudiar dos relaciones: periodo de tiempo y estos atributos, y, género y estos atributos."
   ]
  },
  {
   "cell_type": "markdown",
   "metadata": {
    "id": "nwPsnnO63iTJ"
   },
   "source": [
    "##2. Exploración de datos"
   ]
  },
  {
   "cell_type": "markdown",
   "metadata": {
    "id": "eQZ8noM9aHNI"
   },
   "source": [
    "###Sobre el conjunto de datos"
   ]
  },
  {
   "cell_type": "markdown",
   "metadata": {
    "id": "jOB3lGUk9WoK"
   },
   "source": [
    "El conjunto de datos se encuentra disponible en:\n",
    "https://www.kaggle.com/datasets/saurabhshahane/music-dataset-1950-to-2019  "
   ]
  },
  {
   "cell_type": "code",
   "execution_count": 1,
   "metadata": {
    "colab": {
     "base_uri": "https://localhost:8080/"
    },
    "id": "V2Smjbr-1i2q",
    "outputId": "b5df4608-043f-47f6-d00f-be029455664b"
   },
   "outputs": [
    {
     "ename": "ModuleNotFoundError",
     "evalue": "No module named 'google'",
     "output_type": "error",
     "traceback": [
      "\u001b[1;31m---------------------------------------------------------------------------\u001b[0m",
      "\u001b[1;31mModuleNotFoundError\u001b[0m                       Traceback (most recent call last)",
      "\u001b[1;32m~\\AppData\\Local\\Temp/ipykernel_6628/31195038.py\u001b[0m in \u001b[0;36m<module>\u001b[1;34m\u001b[0m\n\u001b[1;32m----> 1\u001b[1;33m \u001b[1;32mfrom\u001b[0m \u001b[0mgoogle\u001b[0m\u001b[1;33m.\u001b[0m\u001b[0mcolab\u001b[0m \u001b[1;32mimport\u001b[0m \u001b[0mdrive\u001b[0m\u001b[1;33m\u001b[0m\u001b[1;33m\u001b[0m\u001b[0m\n\u001b[0m\u001b[0;32m      2\u001b[0m \u001b[0mdrive\u001b[0m\u001b[1;33m.\u001b[0m\u001b[0mmount\u001b[0m\u001b[1;33m(\u001b[0m\u001b[1;34m'/content/gdrive'\u001b[0m\u001b[1;33m)\u001b[0m\u001b[1;33m\u001b[0m\u001b[1;33m\u001b[0m\u001b[0m\n",
      "\u001b[1;31mModuleNotFoundError\u001b[0m: No module named 'google'"
     ]
    }
   ],
   "source": [
    "from google.colab import drive \n",
    "drive.mount('/content/gdrive')"
   ]
  },
  {
   "cell_type": "code",
   "execution_count": null,
   "metadata": {
    "colab": {
     "base_uri": "https://localhost:8080/",
     "height": 345
    },
    "id": "9lz3UDKUSo3k",
    "outputId": "0177b56d-645f-4a0d-a9e0-9d6630fcb494"
   },
   "outputs": [
    {
     "ename": "FileNotFoundError",
     "evalue": "ignored",
     "output_type": "error",
     "traceback": [
      "\u001b[0;31m---------------------------------------------------------------------------\u001b[0m",
      "\u001b[0;31mFileNotFoundError\u001b[0m                         Traceback (most recent call last)",
      "\u001b[0;32m<ipython-input-6-6b3b6d356130>\u001b[0m in \u001b[0;36m<module>\u001b[0;34m\u001b[0m\n\u001b[1;32m      1\u001b[0m \u001b[0;32mimport\u001b[0m \u001b[0mpandas\u001b[0m \u001b[0;32mas\u001b[0m \u001b[0mpd\u001b[0m\u001b[0;34m\u001b[0m\u001b[0;34m\u001b[0m\u001b[0m\n\u001b[0;32m----> 2\u001b[0;31m \u001b[0mdf\u001b[0m \u001b[0;34m=\u001b[0m \u001b[0mpd\u001b[0m\u001b[0;34m.\u001b[0m\u001b[0mread_csv\u001b[0m\u001b[0;34m(\u001b[0m\u001b[0;34m'gdrive/MyDrive/Colab Notebooks/Minería/data1950.csv'\u001b[0m\u001b[0;34m)\u001b[0m\u001b[0;34m\u001b[0m\u001b[0;34m\u001b[0m\u001b[0m\n\u001b[0m\u001b[1;32m      3\u001b[0m \u001b[0mdf_real\u001b[0m \u001b[0;34m=\u001b[0m \u001b[0mdf\u001b[0m\u001b[0;34m[\u001b[0m\u001b[0;34m[\u001b[0m\u001b[0;34m'Unnamed: 0'\u001b[0m\u001b[0;34m,\u001b[0m \u001b[0;34m'track_name'\u001b[0m\u001b[0;34m,\u001b[0m \u001b[0;34m'release_date'\u001b[0m\u001b[0;34m,\u001b[0m \u001b[0;34m'genre'\u001b[0m\u001b[0;34m,\u001b[0m \u001b[0;34m'lyrics'\u001b[0m\u001b[0;34m,\u001b[0m \u001b[0;34m'len'\u001b[0m\u001b[0;34m,\u001b[0m \u001b[0;34m'danceability'\u001b[0m\u001b[0;34m,\u001b[0m \u001b[0;34m'loudness'\u001b[0m\u001b[0;34m,\u001b[0m \u001b[0;34m'acousticness'\u001b[0m\u001b[0;34m,\u001b[0m \u001b[0;34m'instrumentalness'\u001b[0m\u001b[0;34m,\u001b[0m \u001b[0;34m'valence'\u001b[0m\u001b[0;34m,\u001b[0m \u001b[0;34m'energy'\u001b[0m\u001b[0;34m]\u001b[0m\u001b[0;34m]\u001b[0m\u001b[0;34m\u001b[0m\u001b[0;34m\u001b[0m\u001b[0m\n",
      "\u001b[0;32m/usr/local/lib/python3.7/dist-packages/pandas/util/_decorators.py\u001b[0m in \u001b[0;36mwrapper\u001b[0;34m(*args, **kwargs)\u001b[0m\n\u001b[1;32m    309\u001b[0m                     \u001b[0mstacklevel\u001b[0m\u001b[0;34m=\u001b[0m\u001b[0mstacklevel\u001b[0m\u001b[0;34m,\u001b[0m\u001b[0;34m\u001b[0m\u001b[0;34m\u001b[0m\u001b[0m\n\u001b[1;32m    310\u001b[0m                 )\n\u001b[0;32m--> 311\u001b[0;31m             \u001b[0;32mreturn\u001b[0m \u001b[0mfunc\u001b[0m\u001b[0;34m(\u001b[0m\u001b[0;34m*\u001b[0m\u001b[0margs\u001b[0m\u001b[0;34m,\u001b[0m \u001b[0;34m**\u001b[0m\u001b[0mkwargs\u001b[0m\u001b[0;34m)\u001b[0m\u001b[0;34m\u001b[0m\u001b[0;34m\u001b[0m\u001b[0m\n\u001b[0m\u001b[1;32m    312\u001b[0m \u001b[0;34m\u001b[0m\u001b[0m\n\u001b[1;32m    313\u001b[0m         \u001b[0;32mreturn\u001b[0m \u001b[0mwrapper\u001b[0m\u001b[0;34m\u001b[0m\u001b[0;34m\u001b[0m\u001b[0m\n",
      "\u001b[0;32m/usr/local/lib/python3.7/dist-packages/pandas/io/parsers/readers.py\u001b[0m in \u001b[0;36mread_csv\u001b[0;34m(filepath_or_buffer, sep, delimiter, header, names, index_col, usecols, squeeze, prefix, mangle_dupe_cols, dtype, engine, converters, true_values, false_values, skipinitialspace, skiprows, skipfooter, nrows, na_values, keep_default_na, na_filter, verbose, skip_blank_lines, parse_dates, infer_datetime_format, keep_date_col, date_parser, dayfirst, cache_dates, iterator, chunksize, compression, thousands, decimal, lineterminator, quotechar, quoting, doublequote, escapechar, comment, encoding, encoding_errors, dialect, error_bad_lines, warn_bad_lines, on_bad_lines, delim_whitespace, low_memory, memory_map, float_precision, storage_options)\u001b[0m\n\u001b[1;32m    584\u001b[0m     \u001b[0mkwds\u001b[0m\u001b[0;34m.\u001b[0m\u001b[0mupdate\u001b[0m\u001b[0;34m(\u001b[0m\u001b[0mkwds_defaults\u001b[0m\u001b[0;34m)\u001b[0m\u001b[0;34m\u001b[0m\u001b[0;34m\u001b[0m\u001b[0m\n\u001b[1;32m    585\u001b[0m \u001b[0;34m\u001b[0m\u001b[0m\n\u001b[0;32m--> 586\u001b[0;31m     \u001b[0;32mreturn\u001b[0m \u001b[0m_read\u001b[0m\u001b[0;34m(\u001b[0m\u001b[0mfilepath_or_buffer\u001b[0m\u001b[0;34m,\u001b[0m \u001b[0mkwds\u001b[0m\u001b[0;34m)\u001b[0m\u001b[0;34m\u001b[0m\u001b[0;34m\u001b[0m\u001b[0m\n\u001b[0m\u001b[1;32m    587\u001b[0m \u001b[0;34m\u001b[0m\u001b[0m\n\u001b[1;32m    588\u001b[0m \u001b[0;34m\u001b[0m\u001b[0m\n",
      "\u001b[0;32m/usr/local/lib/python3.7/dist-packages/pandas/io/parsers/readers.py\u001b[0m in \u001b[0;36m_read\u001b[0;34m(filepath_or_buffer, kwds)\u001b[0m\n\u001b[1;32m    480\u001b[0m \u001b[0;34m\u001b[0m\u001b[0m\n\u001b[1;32m    481\u001b[0m     \u001b[0;31m# Create the parser.\u001b[0m\u001b[0;34m\u001b[0m\u001b[0;34m\u001b[0m\u001b[0;34m\u001b[0m\u001b[0m\n\u001b[0;32m--> 482\u001b[0;31m     \u001b[0mparser\u001b[0m \u001b[0;34m=\u001b[0m \u001b[0mTextFileReader\u001b[0m\u001b[0;34m(\u001b[0m\u001b[0mfilepath_or_buffer\u001b[0m\u001b[0;34m,\u001b[0m \u001b[0;34m**\u001b[0m\u001b[0mkwds\u001b[0m\u001b[0;34m)\u001b[0m\u001b[0;34m\u001b[0m\u001b[0;34m\u001b[0m\u001b[0m\n\u001b[0m\u001b[1;32m    483\u001b[0m \u001b[0;34m\u001b[0m\u001b[0m\n\u001b[1;32m    484\u001b[0m     \u001b[0;32mif\u001b[0m \u001b[0mchunksize\u001b[0m \u001b[0;32mor\u001b[0m \u001b[0miterator\u001b[0m\u001b[0;34m:\u001b[0m\u001b[0;34m\u001b[0m\u001b[0;34m\u001b[0m\u001b[0m\n",
      "\u001b[0;32m/usr/local/lib/python3.7/dist-packages/pandas/io/parsers/readers.py\u001b[0m in \u001b[0;36m__init__\u001b[0;34m(self, f, engine, **kwds)\u001b[0m\n\u001b[1;32m    809\u001b[0m             \u001b[0mself\u001b[0m\u001b[0;34m.\u001b[0m\u001b[0moptions\u001b[0m\u001b[0;34m[\u001b[0m\u001b[0;34m\"has_index_names\"\u001b[0m\u001b[0;34m]\u001b[0m \u001b[0;34m=\u001b[0m \u001b[0mkwds\u001b[0m\u001b[0;34m[\u001b[0m\u001b[0;34m\"has_index_names\"\u001b[0m\u001b[0;34m]\u001b[0m\u001b[0;34m\u001b[0m\u001b[0;34m\u001b[0m\u001b[0m\n\u001b[1;32m    810\u001b[0m \u001b[0;34m\u001b[0m\u001b[0m\n\u001b[0;32m--> 811\u001b[0;31m         \u001b[0mself\u001b[0m\u001b[0;34m.\u001b[0m\u001b[0m_engine\u001b[0m \u001b[0;34m=\u001b[0m \u001b[0mself\u001b[0m\u001b[0;34m.\u001b[0m\u001b[0m_make_engine\u001b[0m\u001b[0;34m(\u001b[0m\u001b[0mself\u001b[0m\u001b[0;34m.\u001b[0m\u001b[0mengine\u001b[0m\u001b[0;34m)\u001b[0m\u001b[0;34m\u001b[0m\u001b[0;34m\u001b[0m\u001b[0m\n\u001b[0m\u001b[1;32m    812\u001b[0m \u001b[0;34m\u001b[0m\u001b[0m\n\u001b[1;32m    813\u001b[0m     \u001b[0;32mdef\u001b[0m \u001b[0mclose\u001b[0m\u001b[0;34m(\u001b[0m\u001b[0mself\u001b[0m\u001b[0;34m)\u001b[0m\u001b[0;34m:\u001b[0m\u001b[0;34m\u001b[0m\u001b[0;34m\u001b[0m\u001b[0m\n",
      "\u001b[0;32m/usr/local/lib/python3.7/dist-packages/pandas/io/parsers/readers.py\u001b[0m in \u001b[0;36m_make_engine\u001b[0;34m(self, engine)\u001b[0m\n\u001b[1;32m   1038\u001b[0m             )\n\u001b[1;32m   1039\u001b[0m         \u001b[0;31m# error: Too many arguments for \"ParserBase\"\u001b[0m\u001b[0;34m\u001b[0m\u001b[0;34m\u001b[0m\u001b[0;34m\u001b[0m\u001b[0m\n\u001b[0;32m-> 1040\u001b[0;31m         \u001b[0;32mreturn\u001b[0m \u001b[0mmapping\u001b[0m\u001b[0;34m[\u001b[0m\u001b[0mengine\u001b[0m\u001b[0;34m]\u001b[0m\u001b[0;34m(\u001b[0m\u001b[0mself\u001b[0m\u001b[0;34m.\u001b[0m\u001b[0mf\u001b[0m\u001b[0;34m,\u001b[0m \u001b[0;34m**\u001b[0m\u001b[0mself\u001b[0m\u001b[0;34m.\u001b[0m\u001b[0moptions\u001b[0m\u001b[0;34m)\u001b[0m  \u001b[0;31m# type: ignore[call-arg]\u001b[0m\u001b[0;34m\u001b[0m\u001b[0;34m\u001b[0m\u001b[0m\n\u001b[0m\u001b[1;32m   1041\u001b[0m \u001b[0;34m\u001b[0m\u001b[0m\n\u001b[1;32m   1042\u001b[0m     \u001b[0;32mdef\u001b[0m \u001b[0m_failover_to_python\u001b[0m\u001b[0;34m(\u001b[0m\u001b[0mself\u001b[0m\u001b[0;34m)\u001b[0m\u001b[0;34m:\u001b[0m\u001b[0;34m\u001b[0m\u001b[0;34m\u001b[0m\u001b[0m\n",
      "\u001b[0;32m/usr/local/lib/python3.7/dist-packages/pandas/io/parsers/c_parser_wrapper.py\u001b[0m in \u001b[0;36m__init__\u001b[0;34m(self, src, **kwds)\u001b[0m\n\u001b[1;32m     49\u001b[0m \u001b[0;34m\u001b[0m\u001b[0m\n\u001b[1;32m     50\u001b[0m         \u001b[0;31m# open handles\u001b[0m\u001b[0;34m\u001b[0m\u001b[0;34m\u001b[0m\u001b[0;34m\u001b[0m\u001b[0m\n\u001b[0;32m---> 51\u001b[0;31m         \u001b[0mself\u001b[0m\u001b[0;34m.\u001b[0m\u001b[0m_open_handles\u001b[0m\u001b[0;34m(\u001b[0m\u001b[0msrc\u001b[0m\u001b[0;34m,\u001b[0m \u001b[0mkwds\u001b[0m\u001b[0;34m)\u001b[0m\u001b[0;34m\u001b[0m\u001b[0;34m\u001b[0m\u001b[0m\n\u001b[0m\u001b[1;32m     52\u001b[0m         \u001b[0;32massert\u001b[0m \u001b[0mself\u001b[0m\u001b[0;34m.\u001b[0m\u001b[0mhandles\u001b[0m \u001b[0;32mis\u001b[0m \u001b[0;32mnot\u001b[0m \u001b[0;32mNone\u001b[0m\u001b[0;34m\u001b[0m\u001b[0;34m\u001b[0m\u001b[0m\n\u001b[1;32m     53\u001b[0m \u001b[0;34m\u001b[0m\u001b[0m\n",
      "\u001b[0;32m/usr/local/lib/python3.7/dist-packages/pandas/io/parsers/base_parser.py\u001b[0m in \u001b[0;36m_open_handles\u001b[0;34m(self, src, kwds)\u001b[0m\n\u001b[1;32m    227\u001b[0m             \u001b[0mmemory_map\u001b[0m\u001b[0;34m=\u001b[0m\u001b[0mkwds\u001b[0m\u001b[0;34m.\u001b[0m\u001b[0mget\u001b[0m\u001b[0;34m(\u001b[0m\u001b[0;34m\"memory_map\"\u001b[0m\u001b[0;34m,\u001b[0m \u001b[0;32mFalse\u001b[0m\u001b[0;34m)\u001b[0m\u001b[0;34m,\u001b[0m\u001b[0;34m\u001b[0m\u001b[0;34m\u001b[0m\u001b[0m\n\u001b[1;32m    228\u001b[0m             \u001b[0mstorage_options\u001b[0m\u001b[0;34m=\u001b[0m\u001b[0mkwds\u001b[0m\u001b[0;34m.\u001b[0m\u001b[0mget\u001b[0m\u001b[0;34m(\u001b[0m\u001b[0;34m\"storage_options\"\u001b[0m\u001b[0;34m,\u001b[0m \u001b[0;32mNone\u001b[0m\u001b[0;34m)\u001b[0m\u001b[0;34m,\u001b[0m\u001b[0;34m\u001b[0m\u001b[0;34m\u001b[0m\u001b[0m\n\u001b[0;32m--> 229\u001b[0;31m             \u001b[0merrors\u001b[0m\u001b[0;34m=\u001b[0m\u001b[0mkwds\u001b[0m\u001b[0;34m.\u001b[0m\u001b[0mget\u001b[0m\u001b[0;34m(\u001b[0m\u001b[0;34m\"encoding_errors\"\u001b[0m\u001b[0;34m,\u001b[0m \u001b[0;34m\"strict\"\u001b[0m\u001b[0;34m)\u001b[0m\u001b[0;34m,\u001b[0m\u001b[0;34m\u001b[0m\u001b[0;34m\u001b[0m\u001b[0m\n\u001b[0m\u001b[1;32m    230\u001b[0m         )\n\u001b[1;32m    231\u001b[0m \u001b[0;34m\u001b[0m\u001b[0m\n",
      "\u001b[0;32m/usr/local/lib/python3.7/dist-packages/pandas/io/common.py\u001b[0m in \u001b[0;36mget_handle\u001b[0;34m(path_or_buf, mode, encoding, compression, memory_map, is_text, errors, storage_options)\u001b[0m\n\u001b[1;32m    705\u001b[0m                 \u001b[0mencoding\u001b[0m\u001b[0;34m=\u001b[0m\u001b[0mioargs\u001b[0m\u001b[0;34m.\u001b[0m\u001b[0mencoding\u001b[0m\u001b[0;34m,\u001b[0m\u001b[0;34m\u001b[0m\u001b[0;34m\u001b[0m\u001b[0m\n\u001b[1;32m    706\u001b[0m                 \u001b[0merrors\u001b[0m\u001b[0;34m=\u001b[0m\u001b[0merrors\u001b[0m\u001b[0;34m,\u001b[0m\u001b[0;34m\u001b[0m\u001b[0;34m\u001b[0m\u001b[0m\n\u001b[0;32m--> 707\u001b[0;31m                 \u001b[0mnewline\u001b[0m\u001b[0;34m=\u001b[0m\u001b[0;34m\"\"\u001b[0m\u001b[0;34m,\u001b[0m\u001b[0;34m\u001b[0m\u001b[0;34m\u001b[0m\u001b[0m\n\u001b[0m\u001b[1;32m    708\u001b[0m             )\n\u001b[1;32m    709\u001b[0m         \u001b[0;32melse\u001b[0m\u001b[0;34m:\u001b[0m\u001b[0;34m\u001b[0m\u001b[0;34m\u001b[0m\u001b[0m\n",
      "\u001b[0;31mFileNotFoundError\u001b[0m: [Errno 2] No such file or directory: 'gdrive/MyDrive/Colab Notebooks/Minería/data1950.csv'"
     ]
    }
   ],
   "source": [
    "import pandas as pd \n",
    "df = pd.read_csv('gdrive/MyDrive/Colab Notebooks/Minería/data1950.csv')\n",
    "df_real = df[['Unnamed: 0', 'track_name', 'release_date', 'genre', 'lyrics', 'len', 'danceability', 'loudness', 'acousticness', 'instrumentalness', 'valence', 'energy']]"
   ]
  },
  {
   "cell_type": "markdown",
   "metadata": {
    "id": "Y1NbM5u5Xm6-"
   },
   "source": [
    "El conjunto de datos, filtrado para el propósito del proyecto, tiene un total de 28.372 canciones. Para cada una de ellas, se tienen los siguientes atributos: 'track_name' (nombre), 'release_date' (año), 'genre' (género), 'lyrics' (letra)\n",
    ", 'len' (duración), 'danceability' (bailiabilidad), 'volumen' (volumen), 'acousticness' (acústica), 'instrumentalness' (instrumentalidad), 'valence' (valencia), 'energy' (energía)."
   ]
  },
  {
   "cell_type": "code",
   "execution_count": null,
   "metadata": {
    "id": "LxW9jF7CUo4v"
   },
   "outputs": [],
   "source": [
    "df_real.shape"
   ]
  },
  {
   "cell_type": "code",
   "execution_count": null,
   "metadata": {
    "id": "nwR_EQDgUuLj"
   },
   "outputs": [],
   "source": [
    "df_real.info()"
   ]
  },
  {
   "cell_type": "markdown",
   "metadata": {
    "id": "xNC4ZL0mYmAl"
   },
   "source": [
    "Las dos variables principales a analizar son el año y el género, que se intentarán relacionar con la letra y con los atributos técnicos."
   ]
  },
  {
   "cell_type": "code",
   "execution_count": null,
   "metadata": {
    "id": "n3gvDAx-T_LJ"
   },
   "outputs": [],
   "source": [
    "df_real.head()"
   ]
  },
  {
   "cell_type": "markdown",
   "metadata": {
    "id": "fzjNBafJcNdX"
   },
   "source": [
    "Además, se puede ver que las 10 palabras más comunes en las letras, independiente de género o año, son las siguientes."
   ]
  },
  {
   "cell_type": "code",
   "execution_count": null,
   "metadata": {
    "id": "T0qVEbXuKDeF"
   },
   "outputs": [],
   "source": [
    "pd.Series(' '.join(df_real['lyrics']).split()).value_counts()[:10]\n",
    "letras = df_real['lyrics']"
   ]
  },
  {
   "cell_type": "markdown",
   "metadata": {
    "id": "1mws-GJKZ65q"
   },
   "source": [
    "###Análisis temporal"
   ]
  },
  {
   "cell_type": "markdown",
   "metadata": {
    "id": "22zw53BGZP7n"
   },
   "source": [
    "La distribución de las canciones por año es como se muestra a continuación. Nuevamente, se tendrá que tener cuidado con manejar las canciones antes de los años 60."
   ]
  },
  {
   "cell_type": "code",
   "execution_count": null,
   "metadata": {
    "id": "Ni4JFmcbUa0V"
   },
   "outputs": [],
   "source": [
    "max = df_real['release_date'].max()\n",
    "min = df_real['release_date'].min()\n",
    "df_real.hist('release_date', bins=max-min+1)"
   ]
  },
  {
   "cell_type": "markdown",
   "metadata": {
    "id": "kKQ_XeIPbks2"
   },
   "source": [
    "A priori se ve que con el tiempo las canciones han aumentado su duración, valoumen energía y disminuido su acústica, pero es difícil analizar cuando las clases están muy desbalanceadas (pocos datos en años tempranos)."
   ]
  },
  {
   "cell_type": "code",
   "execution_count": null,
   "metadata": {
    "id": "Pv923C1hbFbq"
   },
   "outputs": [],
   "source": [
    "for aspecto in ['len', 'danceability', 'loudness', 'acousticness', 'instrumentalness', 'valence', 'energy']:\n",
    "  df_real.plot.scatter(x='release_date', y=aspecto, s=1)"
   ]
  },
  {
   "cell_type": "markdown",
   "metadata": {
    "id": "dSm17kxCdPpK"
   },
   "source": [
    "No se ve una tendencia muy clara en palabras utilizadas en cada década. Tampoco cuando se desagrega por año (no se muestra por simplicidad)."
   ]
  },
  {
   "cell_type": "code",
   "execution_count": null,
   "metadata": {
    "id": "WETpTGS2JjVP"
   },
   "outputs": [],
   "source": [
    "for i in range(1950, 2010, 10):\n",
    "  print(i, '...')\n",
    "  copy = df_real[(df_real.release_date>=i) & (df_real.release_date<=i+9)]\n",
    "  print(pd.Series(' '.join(copy['lyrics']).split()).value_counts()[1:5])\n",
    "  print('---')"
   ]
  },
  {
   "cell_type": "markdown",
   "metadata": {
    "id": "Lp7DItA2aESi"
   },
   "source": [
    "###Análisis de género"
   ]
  },
  {
   "cell_type": "markdown",
   "metadata": {
    "id": "JnoUdh4TY1Mf"
   },
   "source": [
    "La distribución de las canciones por género es como se muestra a continuación. Es algo que se debe tener en cuenta, pues las clases no están del todo balanceadas."
   ]
  },
  {
   "cell_type": "code",
   "execution_count": null,
   "metadata": {
    "id": "ePBmgsQ6RYke"
   },
   "outputs": [],
   "source": [
    "import matplotlib.pyplot as plt\n",
    "fig, ax = plt.subplots()\n",
    "df_1950['genre'].value_counts().plot(ax=ax, kind='bar')"
   ]
  },
  {
   "cell_type": "markdown",
   "metadata": {
    "id": "UW_uTm8nZh3H"
   },
   "source": [
    "Con respecto al género relacionado con los ámbitos técnicos, a priori no se visualizan relaciones concretas. Es posible, sin embargo, que la agregación de todos los aspectos sí den indicios de uno u otro género."
   ]
  },
  {
   "cell_type": "code",
   "execution_count": null,
   "metadata": {
    "id": "Uy6_-w-IWWPx"
   },
   "outputs": [],
   "source": [
    "import seaborn as sns\n",
    "sns.pairplot(df_real, vars=['len', 'danceability', 'loudness', 'acousticness', 'instrumentalness', 'valence', 'energy'], hue='genre', plot_kws={\"s\": 1})"
   ]
  },
  {
   "cell_type": "markdown",
   "metadata": {
    "id": "SMXx-X1McoTM"
   },
   "source": [
    "Se pueden ver las palabras más comunes por género. A priori es difícil encontrar palabras muy distintivas, salvo en casos como el hip hop."
   ]
  },
  {
   "cell_type": "code",
   "execution_count": null,
   "metadata": {
    "id": "dmQLQfTGTZ98"
   },
   "outputs": [],
   "source": [
    "for i in df_real.genre.unique():\n",
    "  print(i, '...')\n",
    "  copy = df_real[(df_real.genre==i)]\n",
    "  print(pd.Series(' '.join(copy['lyrics']).split()).value_counts()[:5])\n",
    "  print('--')"
   ]
  },
  {
   "cell_type": "markdown",
   "metadata": {
    "id": "_WPUq0CM3na7"
   },
   "source": [
    "##3. Preguntas y problemas"
   ]
  },
  {
   "cell_type": "markdown",
   "metadata": {
    "id": "Dml9o03l1hq0"
   },
   "source": [
    "Dada la exploración de datos realizada y el contexto de los datos, es posible desarrollar las siguientes preguntas y problemas:\n",
    "\n",
    "Las canciones desarrolladas en un cierto periodo temporal en la historia ¿tienen características técnicas y/o emocionales que sean distintivas de dicho periodo?\n",
    "\n",
    "*   Problema de clasificación: Generar un modelo que pueda predecir la década o año de una canción basándose en sus aspectos técnicos como bailabilidad, volumen, energía, entre otros.\n",
    "*   Problema de clasificación: Generar un modelo que pueda predecir la década o año de una canción basándose en sus aspectos expresivos como los títulos y las letras de la canciones.\n",
    "\n",
    "Puede ser útil resolver estos problemas pues permitiría aproximarse a saber qué tan estable es la música a lo largo del tiempo. Quizá se podría estudiar la posible existencia de tendencias que permitan predecir la forma en que se creará música en el futuro cercano.\n",
    "\n",
    "¿El género de una canción está más ligado a la verbalización o al sonido de una canción?\n",
    "*   Problema de clasificación: Generar un modelo que pueda predecir el género de una canción basándose en los aspectos técnicos como bailabilidad, volumen, energía, entre otros.\n",
    "*   Problema de clasificación: Generar un modelo que pueda predecir el género de una canción basándose en las palabras contenidas en la letra de ella.\n",
    "\n",
    "Luego, se puede comparar el éxito de ambos modelos para aproximarse a responder cuál de los dos es más determinante para clasificar un género.\n"
   ]
  },
  {
   "cell_type": "markdown",
   "metadata": {
    "id": "0yWvNxLM33P5"
   },
   "source": [
    "##4. Contribuciones de integrantes\n",
    "*   Redacción de introducción: Benjamín Alvial\n",
    "*   Programación para exploración de datos: Benjamín Alvial\n",
    "*   Formulación de preguntas y problemas: Benjamín Aguilar y Benjamín Alvial\n",
    "*   *Proofreading*: Jules Fredes C.\n",
    "\n",
    "\n",
    "\n"
   ]
  },
  {
   "cell_type": "code",
   "execution_count": null,
   "metadata": {
    "colab": {
     "base_uri": "https://localhost:8080/"
    },
    "id": "GUqGDaM5gBYD",
    "outputId": "62cb1f16-c893-4acd-900c-29d626f660d7"
   },
   "outputs": [
    {
     "name": "stdout",
     "output_type": "stream",
     "text": [
      "[NbConvertApp] WARNING | pattern '///gdrive/MyDrive/Colab' matched no files\n",
      "[NbConvertApp] WARNING | pattern 'Notebooks/Minería/data1950.csv' matched no files\n",
      "[NbConvertApp] Converting notebook Proyecto_Minería_Spotify_v1.ipynb to html\n",
      "[NbConvertApp] Writing 3178015 bytes to Proyecto_Minería_Spotify_v1.html\n"
     ]
    },
    {
     "data": {
      "text/plain": []
     },
     "execution_count": 41,
     "metadata": {},
     "output_type": "execute_result"
    }
   ],
   "source": [
    "%%shell\n",
    "jupyter nbconvert --to html ///gdrive/MyDrive/Colab Notebooks/Minería/data1950.csv Proyecto_Minería_Spotify_v1.ipynb"
   ]
  }
 ],
 "metadata": {
  "colab": {
   "collapsed_sections": [
    "1mws-GJKZ65q"
   ],
   "provenance": []
  },
  "kernelspec": {
   "display_name": "Python 3 (ipykernel)",
   "language": "python",
   "name": "python3"
  },
  "language_info": {
   "codemirror_mode": {
    "name": "ipython",
    "version": 3
   },
   "file_extension": ".py",
   "mimetype": "text/x-python",
   "name": "python",
   "nbconvert_exporter": "python",
   "pygments_lexer": "ipython3",
   "version": "3.9.7"
  }
 },
 "nbformat": 4,
 "nbformat_minor": 1
}
