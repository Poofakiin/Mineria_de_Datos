{
 "cells": [
  {
   "cell_type": "markdown",
   "metadata": {
    "id": "p_XcuC2rXQWb",
    "pycharm": {}
   },
   "source": [
    "# Laboratorio 3.2: Clustering\n",
    "\n",
    "Andrés Abeliuk, Hernán Sarmiento, Cinthia Sánchez, Jorge Ortiz\n",
    "\n",
    "Octubre 2022"
   ]
  },
  {
   "cell_type": "markdown",
   "metadata": {
    "heading_collapsed": true,
    "id": "RvarrC_jXQWe",
    "pycharm": {}
   },
   "source": [
    "## ============= Declaración de compromiso ético =============\n",
    "\n",
    "Nosotros ****Benjamin Aguilar Osorio, Felipe**** , declaramos que realizamos de manera grupal los pasos de la presente actividad. También declaramos no incurrir en copia, ni compartir nuestras respuestas con otras personas ni con otros grupos. Por lo que, ratificamos que las respuestas son de nuestra propia confección y reflejan nuestro propio conocimiento.\n"
   ]
  },
  {
   "cell_type": "markdown",
   "metadata": {
    "heading_collapsed": true,
    "id": "bxEPucKhXQWg",
    "pycharm": {}
   },
   "source": [
    "# Instrucciones\n",
    "\n",
    "\n",
    "1. Trabajen en equipos de dos personas. Salvo excepciones, no se corregirá entregas con menos de dos integrantes.\n",
    "\n",
    "2. Modifiquen este archivo `.ipynb` agregando sus respuestas donde corresponda. \n",
    "\n",
    "3. Cuando finalicen el laboratorio, **generen un archivo HTML** usando jupyter (ver tutorial 2) y súbanlo a U-Cursos. El laboratorio debe ser entregado sólo por 1 integrante. Si se entrega por más de un integrante, se revisará cualquiera de éstos."
   ]
  },
  {
   "cell_type": "markdown",
   "metadata": {
    "heading_collapsed": true,
    "id": "SMUzxXj7XQWi",
    "pycharm": {}
   },
   "source": [
    "# Estructura del laboratorio\n",
    "\n",
    "Este laboratorio consiste en 2 partes. La primera son preguntas teóricas en las que no necesita escribir código y corresponden a materia vista en clases. La segunda es una sección para entrenar y evaluar los métodos de clustering, incluyendo la interpretación de los resultados."
   ]
  },
  {
   "cell_type": "markdown",
   "metadata": {
    "id": "BUK5vAG9fHXq"
   },
   "source": [
    "# Parte 1: Preguntas teóricas\n",
    "\n",
    "**1.** ¿En qué se diferencian las tareas de clustering y clasificación? ¿Cuándo usar clustering y cuando clasificación? Liste al menos dos ejemplos de cada tarea.\n",
    "\n",
    ">Respuesta: \n",
    "\n",
    "\n",
    "**2.** De acuerdo a lo visto en clases, explique cómo bisecting k-mean soluciona el problema de la inicialización de centroides de k-means.\n",
    "\n",
    ">Respuesta:\n",
    "\n",
    "\n",
    "**3.** Evaluar clusters no es una tarea fácil. ¿Qué formas de evaluar clusters conoce? Nombre al menos 3 formas y describa cómo podría determinar si los clusters son buenos o malos usando cada una de las formas nombradas.\n",
    "\n",
    ">Respuesta:"
   ]
  },
  {
   "cell_type": "markdown",
   "metadata": {
    "id": "huukwudDfS-f"
   },
   "source": [
    "# Parte 2: Preguntas prácticas"
   ]
  },
  {
   "cell_type": "markdown",
   "metadata": {
    "id": "jTuloXfOjXak"
   },
   "source": [
    "Para todo el laboratorio usaremos los siguientes datos. Estos contienen información de clientes de un centro comercial, como la edad, sexo, ingresos anuales y puntaje de gastos. Más información en: https://www.kaggle.com/datasets/kandij/mall-customers\n",
    "\n",
    "\n",
    "*   Para entrenar los modelos deben usar los datos en `X`.\n",
    "*   Para visualizar los datos deben usar una versión con dimensionalidad reducida, los cuales guardaremos en la variable `X_pca`. \n",
    "\n"
   ]
  },
  {
   "cell_type": "code",
   "execution_count": null,
   "metadata": {
    "colab": {
     "base_uri": "https://localhost:8080/",
     "height": 206
    },
    "id": "zBVE5sM5wlRD",
    "outputId": "2a144525-a80f-411c-8aef-9b3184c91e4a"
   },
   "outputs": [],
   "source": [
    "import pandas as pd\n",
    "\n",
    "dataframe = pd.read_csv(\"https://raw.githubusercontent.com/cinthiasanchez/Data-Mining/main/Mall_Customers.csv\")\n",
    "dataframe.drop('CustomerID', axis=1, inplace=True)\n",
    "Genre = pd.get_dummies(dataframe['Genre'], prefix='Genre', drop_first=True)\n",
    "\n",
    "X = pd.concat([dataframe, Genre], axis=1).drop('Genre', axis=1)\n",
    "X.head()"
   ]
  },
  {
   "cell_type": "code",
   "execution_count": 2,
   "metadata": {
    "colab": {
     "base_uri": "https://localhost:8080/"
    },
    "id": "nxFD0NlSIhFs",
    "outputId": "fe3624fb-d693-49e2-fa1a-c68aabe6a74b"
   },
   "outputs": [
    {
     "data": {
      "text/plain": [
       "(200, 2)"
      ]
     },
     "execution_count": 2,
     "metadata": {},
     "output_type": "execute_result"
    }
   ],
   "source": [
    "from sklearn.decomposition import PCA\n",
    "\n",
    "pca = PCA(n_components=2).fit(X)\n",
    "X_pca = pca.transform(X) #para visualizar\n",
    "X_pca.shape"
   ]
  },
  {
   "cell_type": "markdown",
   "metadata": {
    "id": "ZH5aquJWjizK"
   },
   "source": [
    "## K-means\n",
    "\n",
    "Cuando usamos k-means debemos definir previamente el número de clusters que queremos generar. Para estimar un número óptimo usaremos el método del codo. Ejecute el siguiente bloque de código, el cual ejecuta `k-means` para `k` clusters, con `k` variando de 1 a 15 clusters. Cada ejecución de `k-means` elige los centroides iniciales al azar. Puede variar el parámetro `n_init` que indica cuántas veces se ejecutará k-means sobre los datos y entregará el clustering con el menor SSE. También puede variar `max_iter`, que indica cuántas veces iterará una ejecución de k-means."
   ]
  },
  {
   "cell_type": "code",
   "execution_count": null,
   "metadata": {
    "colab": {
     "base_uri": "https://localhost:8080/",
     "height": 281
    },
    "id": "tL2mOfTa3Pds",
    "outputId": "edf3e0b5-15a5-4942-e56c-61d7fe9b7840"
   },
   "outputs": [],
   "source": [
    "import matplotlib.pyplot as plt\n",
    "from sklearn.cluster import KMeans\n",
    "\n",
    "sse = []\n",
    "\n",
    "clusters = list(range(1, 16))\n",
    "for k in clusters:\n",
    "    kmeans = KMeans(n_clusters=k, n_init=3, max_iter= 300).fit(X)\n",
    "    sse.append(kmeans.inertia_)\n",
    "\n",
    "plt.plot(clusters, sse, marker=\"o\")\n",
    "plt.title(\"Metodo del codo de 1 a 15 clusters\")\n",
    "plt.grid(True)\n",
    "plt.show()"
   ]
  },
  {
   "cell_type": "code",
   "execution_count": null,
   "metadata": {},
   "outputs": [],
   "source": [
    "i=1\n",
    "j=len(sse)-1\n",
    "lista=[]\n",
    "while(j>i):\n",
    "    lista.append(sse[i]/sse[i-1])"
   ]
  },
  {
   "cell_type": "markdown",
   "metadata": {
    "id": "0n8oTEIyKBqV"
   },
   "source": [
    "**Pregunta 1:** Según el gráfico anterior (usando el método del codo), ¿Cuántos clusters propone usar para este dataset? Escoja dos opciones y justifique su elección. ¿Qué puede decir del efecto de los parámetros `n_init` y `max_iter`? (tuvo que usar valores muy altos, muy bajos, etc.)"
   ]
  },
  {
   "cell_type": "markdown",
   "metadata": {
    "id": "B-DRdzXdKpc9"
   },
   "source": [
    "> Respuesta: "
   ]
  },
  {
   "cell_type": "markdown",
   "metadata": {
    "id": "V7ifMHUa9TQo"
   },
   "source": [
    "**Pregunta 2:** Genere un gráfico para cada uno de los dos `k` elegidos para tener una representación visual de los clusters, y comente lo siguiente:\n",
    "\n",
    "* ¿Qué puede decir de los clusters generados?\n",
    "* ¿Existen patrones de agrupación?"
   ]
  },
  {
   "cell_type": "code",
   "execution_count": null,
   "metadata": {
    "id": "oyLPqEws7y2S"
   },
   "outputs": [],
   "source": [
    "# Respuesta código\n",
    "\n"
   ]
  },
  {
   "cell_type": "markdown",
   "metadata": {
    "id": "gcFMt-mKLGY0"
   },
   "source": [
    ">Respuesta textual"
   ]
  },
  {
   "cell_type": "markdown",
   "metadata": {
    "id": "aMeMvKgclbpe"
   },
   "source": [
    "## DBSCAN"
   ]
  },
  {
   "cell_type": "markdown",
   "metadata": {
    "id": "plH7tagafpTx"
   },
   "source": [
    "Con DBSCAN necesitamos dos parámetros, `eps`y `min_samples`. El siguiente código permite estimar el valor `eps` usando el método de la rodilla (basado en KNN). La idea de este procedimiento es calcular la distancia promedio de cada punto a sus k vecinos más cercanos los cuales son graficados en orden ascendente. El objetivo es determinar la `rodilla`, que corresponde al valor óptimo de `eps`. "
   ]
  },
  {
   "cell_type": "code",
   "execution_count": null,
   "metadata": {
    "colab": {
     "base_uri": "https://localhost:8080/",
     "height": 265
    },
    "id": "ojS7iGpsgF-u",
    "outputId": "e7295f24-760f-44f4-c29c-0b43a8e6ae58"
   },
   "outputs": [
    {
     "data": {
      "image/png": "[encoded data removed]",
      "text/plain": [
       "<Figure size 432x288 with 1 Axes>"
      ]
     },
     "metadata": {
      "needs_background": "light"
     },
     "output_type": "display_data"
    }
   ],
   "source": [
    "from sklearn.neighbors import NearestNeighbors\n",
    "import numpy as np\n",
    "\n",
    "N = 5 #corresponde a 'min_samples'\n",
    "\n",
    "nbrs = NearestNeighbors(n_neighbors=N).fit(X)\n",
    "distances, indices = nbrs.kneighbors(X)\n",
    "\n",
    "distances = np.sort(distances, axis=0)\n",
    "distances = distances[:,1]\n",
    "plt.axhline(y=11, color='r', linestyle='--') #Ajuste el valor para y\n",
    "plt.plot(distances);"
   ]
  },
  {
   "cell_type": "markdown",
   "metadata": {
    "id": "maJ6HPXjl3_Q"
   },
   "source": [
    "**Pregunta 3:** Utilizando el método de la rodilla, pruebe varios valores de `y`, y escoja el que usted considere el mejor `y`. Grafique los clusters usando el método DBSCAN haciendo uso del parámetro `eps` (`y`) encontrado previamente, y `min_samples=5`. Comente:\n",
    "\n",
    "* ¿Por qué escogió el valor `y` como mejor opción?\n",
    "* ¿Cuántos clusters obtuvo? Imprima los clusters obtenidos. \n",
    "* ¿Qué puede decir de los clusters generados?"
   ]
  },
  {
   "cell_type": "code",
   "execution_count": null,
   "metadata": {
    "id": "RSUIlHerj8TM"
   },
   "outputs": [],
   "source": [
    "# Respuesta código\n"
   ]
  },
  {
   "cell_type": "markdown",
   "metadata": {
    "id": "3d8dlEHOhwD5"
   },
   "source": [
    ">Respuesta textual"
   ]
  },
  {
   "cell_type": "markdown",
   "metadata": {
    "id": "8-tuRsRp91TK"
   },
   "source": [
    "**Pregunta 4:** ¿Cómo cambia el resultado si ahora cambia el `N` (el valor de `min_samples`)?\n",
    "\n",
    "Juegue con distintos valores de `N`, determine el `eps` correspondiente, y describa sus observaciones."
   ]
  },
  {
   "cell_type": "code",
   "execution_count": null,
   "metadata": {
    "id": "ss64YUiw-EOu"
   },
   "outputs": [],
   "source": [
    "#Respuesta código\n",
    "\n"
   ]
  },
  {
   "cell_type": "markdown",
   "metadata": {
    "id": "yx9NlLll-Bvo"
   },
   "source": [
    ">Respuesta textual"
   ]
  },
  {
   "cell_type": "markdown",
   "metadata": {
    "id": "9oVp_Ah1BrwZ"
   },
   "source": [
    "## Clustering Jerárquico Aglomerativo"
   ]
  },
  {
   "cell_type": "markdown",
   "metadata": {
    "id": "zu5CJUUaCjZP"
   },
   "source": [
    "**Pregunta 5:** Grafique un dendograma con el método `ward` y la métrica `euclidean`. Comente: ¿\"visualmente\" cuántos clusters propone usar? ¿A qué altura recomendaría cortar el árbol?"
   ]
  },
  {
   "cell_type": "code",
   "execution_count": null,
   "metadata": {
    "id": "SEhFHIyOBXLE"
   },
   "outputs": [],
   "source": [
    "#Respuesta código\n"
   ]
  },
  {
   "cell_type": "markdown",
   "metadata": {
    "id": "By6_AMwm8QKo"
   },
   "source": [
    ">Respuesta textual"
   ]
  },
  {
   "cell_type": "markdown",
   "metadata": {
    "id": "-yefTGWaDl-g"
   },
   "source": [
    "**Pregunta 6:** Implemente el código para asignar clusters a los datos siguiendo lo que usted propuso en la pregunta anterior y visualice los datos con su respectiva asignación. Comente lo siguiente:\n",
    "\n",
    "* ¿Cuántos clusters obtuvo cortando a la altura que propuso en la pregunta anterior?\n",
    "* ¿Qué puede decir de los clusters generados?"
   ]
  },
  {
   "cell_type": "code",
   "execution_count": null,
   "metadata": {
    "id": "4mAgQptAB8uH"
   },
   "outputs": [],
   "source": [
    "#Respuesta código\n"
   ]
  },
  {
   "cell_type": "markdown",
   "metadata": {
    "id": "vFvzPYR9-hDO"
   },
   "source": [
    ">Respuesta textual"
   ]
  },
  {
   "cell_type": "markdown",
   "metadata": {
    "id": "6WYeRwY-If13"
   },
   "source": [
    "## Evaluación"
   ]
  },
  {
   "cell_type": "markdown",
   "metadata": {
    "id": "J6YULxJd7wX6"
   },
   "source": [
    "Para evaluar clusters existen una serie de métodos y métricas. Para este laboratorio usaremos el **Coeficiente de Silhouette**."
   ]
  },
  {
   "cell_type": "markdown",
   "metadata": {
    "id": "8wtb7HYdAH5F"
   },
   "source": [
    "**Pregunta 7:** Para cada uno de los experimentos, los dos de la parte de `kmeans` en la pregunta **2**, los dos de la parte de `dbscan` en la pregunta **3** y **4 (únicamente para el mejor caso)**, y el de `clustering jerárquico` en la pregunta **6**, imprima el Silhouette score de los modelos. Adjunte código."
   ]
  },
  {
   "cell_type": "code",
   "execution_count": null,
   "metadata": {
    "id": "s6OKkjdCmmsr"
   },
   "outputs": [],
   "source": [
    "#Respuesta código\n"
   ]
  },
  {
   "cell_type": "markdown",
   "metadata": {
    "id": "txmAiCbAu-KR"
   },
   "source": [
    "**Pregunta 8:** En base a los valores del coeficiente de Silhouette obtenidos para cada método y configuración, ¿cuál considera que es el que tiene mejor resultado? Argumente su respuesta."
   ]
  },
  {
   "cell_type": "markdown",
   "metadata": {
    "id": "D8nHmfcSu-KS"
   },
   "source": [
    ">Respuesta textual"
   ]
  },
  {
   "cell_type": "markdown",
   "metadata": {
    "id": "jhJcYliAMFT-"
   },
   "source": [
    "**Pregunta 9:** ¿Qué considera que representa cada cluster en este conjunto de datos? "
   ]
  },
  {
   "cell_type": "markdown",
   "metadata": {
    "id": "HB0mv_Gr8oHM"
   },
   "source": [
    ">Respuesta textual"
   ]
  }
 ],
 "metadata": {
  "anaconda-cloud": {},
  "colab": {
   "collapsed_sections": [],
   "provenance": []
  },
  "hide_input": false,
  "kernelspec": {
   "display_name": "Python 3 (ipykernel)",
   "language": "python",
   "name": "python3"
  },
  "language_info": {
   "codemirror_mode": {
    "name": "ipython",
    "version": 3
   },
   "file_extension": ".py",
   "mimetype": "text/x-python",
   "name": "python",
   "nbconvert_exporter": "python",
   "pygments_lexer": "ipython3",
   "version": "3.9.7"
  },
  "toc": {
   "base_numbering": 1,
   "nav_menu": {},
   "number_sections": true,
   "sideBar": true,
   "skip_h1_title": false,
   "title_cell": "Table of Contents",
   "title_sidebar": "Contents",
   "toc_cell": false,
   "toc_position": {},
   "toc_section_display": true,
   "toc_window_display": false
  },
  "varInspector": {
   "cols": {
    "lenName": 16,
    "lenType": 16,
    "lenVar": 40
   },
   "kernels_config": {
    "python": {
     "delete_cmd_postfix": "",
     "delete_cmd_prefix": "del ",
     "library": "var_list.py",
     "varRefreshCmd": "print(var_dic_list())"
    },
    "r": {
     "delete_cmd_postfix": ") ",
     "delete_cmd_prefix": "rm(",
     "library": "var_list.r",
     "varRefreshCmd": "cat(var_dic_list()) "
    }
   },
   "types_to_exclude": [
    "module",
    "function",
    "builtin_function_or_method",
    "instance",
    "_Feature"
   ],
   "window_display": false
  }
 },
 "nbformat": 4,
 "nbformat_minor": 1
}
