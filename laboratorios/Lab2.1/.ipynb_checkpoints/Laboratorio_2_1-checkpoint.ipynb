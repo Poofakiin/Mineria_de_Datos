{
 "cells": [
  {
   "cell_type": "markdown",
   "metadata": {
    "id": "p_XcuC2rXQWb",
    "pycharm": {}
   },
   "source": [
    "# Laboratorio 2.1: Clasificación\n",
    "\n",
    "Andrés Abeliuk, Hernán Sarmiento, Cinthia Sánchez, Jorge Ortiz\n",
    "\n",
    "Septiembre 2022\n"
   ]
  },
  {
   "cell_type": "markdown",
   "metadata": {
    "id": "gP6bki0CIMtj"
   },
   "source": [
    "## Nombres\n",
    "\n",
    "* Benjamín Aguilar Osorio\n",
    "* Felipe Keim Martínez "
   ]
  },
  {
   "cell_type": "markdown",
   "metadata": {
    "id": "SMUzxXj7XQWi",
    "pycharm": {}
   },
   "source": [
    "## Instrucciones\n",
    "\n",
    "1. Trabajen en equipos de dos personas. Salvo excepciones, no se corregirá entregas con menos de dos integrantes.\n",
    "\n",
    "2. Modifique este archivo `.ipynb` agregando sus respuestas donde corresponda.\n",
    "\n",
    "3. El formato de entrega para esta actividad es un archivo **html**. Genere un archivo HTML usando jupyter (ver tutorial 2) y súbalo a U-Cursos. Basta con que **uno de los integrantes haga la entrega**. Si ambos hacen una entrega en U-Cursos, se revisará cualquiera de éstas.\n"
   ]
  },
  {
   "cell_type": "markdown",
   "metadata": {
    "id": "c6j3A35YGh-n"
   },
   "source": [
    "## Estructura del laboratorio\n",
    "\n",
    "Este laboratorio está conformado por preguntas teóricas de temas vistos en clases y preguntas prácticas (donde se requiere completar código) intercaladas con preguntas de interpretación de resultados y análisis. "
   ]
  },
  {
   "cell_type": "markdown",
   "metadata": {
    "id": "N-CWdlDoGh-o"
   },
   "source": [
    "## Teoría\n"
   ]
  },
  {
   "cell_type": "markdown",
   "metadata": {
    "id": "hITZyn7xGh-p"
   },
   "source": [
    "### Pregunta 1\n",
    "\n",
    "Verdadero o Falso (si la afirmación es falsa justifique):\n",
    "\n",
    "1. Si se quieren predecir las clases en un dataset que está desbalanceado es útil aplicar técnicas de subsampling u oversampling sobre todo el conjunto de datos.\n",
    "\n",
    "**Respuesta:**\n",
    "\n",
    "2. La división del dataset en un conjunto de train y en otro de testing permite la generalización de los resultados del modelo.\n",
    "\n",
    "**Respuesta:**\n",
    "\n",
    "3. La clasificación es un método de aprendizaje supervisado porque en la construcción de los modelos se deben configurar hiperparámetros.\n",
    "\n",
    "**Respuesta:**\n"
   ]
  },
  {
   "cell_type": "markdown",
   "metadata": {
    "id": "NKZg9pEFXQWj",
    "pycharm": {}
   },
   "source": [
    "## Parte práctica\n"
   ]
  },
  {
   "cell_type": "markdown",
   "metadata": {
    "id": "wjW5R_p5XQWj",
    "pycharm": {}
   },
   "source": [
    "A continuación vamos a cargar el corpus de reclamos (anonimizados) contra entidades bancarias, liberado por la Comisión para el Mercado Financiero (CMF).\n",
    "\n",
    "Los atributos que posee son:\n",
    "\n",
    "- CASO_ID : id de cada reclamo\n",
    "- TIPO_RECLAMO: Reclamo Seguros o Reclamo Valores\n",
    "- DESCRIPCION_CIUDADANO: texto escrito por la persona que reclama acerca del problema\n",
    "- PETICION_CIUDADANO: texto escrito por la persona que reclama sobre su petición\n",
    "\n",
    "Luego, concatenaremos las columnas \"DESCRIPCION_CIUDADANO\" y \"PETICION_CIUDADANO\" en una sola columna llamada \"TEXTO_COMPLETO\"\n"
   ]
  },
  {
   "cell_type": "code",
   "execution_count": 1,
   "metadata": {
    "colab": {
     "base_uri": "https://localhost:8080/",
     "height": 206
    },
    "id": "JKE1Os_xGh-r",
    "outputId": "266c9005-eb1f-45fe-b2d7-6adcc124a20f"
   },
   "outputs": [
    {
     "data": {
      "text/html": [
       "<div>\n",
       "<style scoped>\n",
       "    .dataframe tbody tr th:only-of-type {\n",
       "        vertical-align: middle;\n",
       "    }\n",
       "\n",
       "    .dataframe tbody tr th {\n",
       "        vertical-align: top;\n",
       "    }\n",
       "\n",
       "    .dataframe thead th {\n",
       "        text-align: right;\n",
       "    }\n",
       "</style>\n",
       "<table border=\"1\" class=\"dataframe\">\n",
       "  <thead>\n",
       "    <tr style=\"text-align: right;\">\n",
       "      <th></th>\n",
       "      <th>TIPO_RECLAMO</th>\n",
       "      <th>TEXTO_COMPLETO</th>\n",
       "    </tr>\n",
       "  </thead>\n",
       "  <tbody>\n",
       "    <tr>\n",
       "      <th>0</th>\n",
       "      <td>Reclamo Seguros</td>\n",
       "      <td>RECIBI UN CORREO ELECTRONICO DONDE SE ME INDIC...</td>\n",
       "    </tr>\n",
       "    <tr>\n",
       "      <th>1</th>\n",
       "      <td>Reclamo Seguros</td>\n",
       "      <td>Mi nombre es XX y el día 27 de Enero de este a...</td>\n",
       "    </tr>\n",
       "    <tr>\n",
       "      <th>2</th>\n",
       "      <td>Reclamo Seguros</td>\n",
       "      <td>Estimados Señores SVS\\n\\nCon fecha 13 de Octub...</td>\n",
       "    </tr>\n",
       "    <tr>\n",
       "      <th>3</th>\n",
       "      <td>Reclamo Seguros</td>\n",
       "      <td>En primera instancia solicité renvar mi tarjet...</td>\n",
       "    </tr>\n",
       "    <tr>\n",
       "      <th>4</th>\n",
       "      <td>Reclamo Valores</td>\n",
       "      <td>reclamo en contra Scotiabank por cobros de man...</td>\n",
       "    </tr>\n",
       "  </tbody>\n",
       "</table>\n",
       "</div>"
      ],
      "text/plain": [
       "      TIPO_RECLAMO                                     TEXTO_COMPLETO\n",
       "0  Reclamo Seguros  RECIBI UN CORREO ELECTRONICO DONDE SE ME INDIC...\n",
       "1  Reclamo Seguros  Mi nombre es XX y el día 27 de Enero de este a...\n",
       "2  Reclamo Seguros  Estimados Señores SVS\\n\\nCon fecha 13 de Octub...\n",
       "3  Reclamo Seguros  En primera instancia solicité renvar mi tarjet...\n",
       "4  Reclamo Valores  reclamo en contra Scotiabank por cobros de man..."
      ]
     },
     "execution_count": 1,
     "metadata": {},
     "output_type": "execute_result"
    }
   ],
   "source": [
    "import pandas as pd\n",
    "df = pd.read_csv(\"https://ortizfuentes.com/datasets/reclamos_cmf_2020.csv\")\n",
    "df[\"TEXTO_COMPLETO\"] = df[\"DESCRIPCION_CIUDADANO\"] + \\\n",
    "    \" \" + df[\"PETICION_CIUDADANO\"]\n",
    "df = df[[\"TIPO_RECLAMO\", \"TEXTO_COMPLETO\"]]\n",
    "df.head()\n"
   ]
  },
  {
   "cell_type": "markdown",
   "metadata": {
    "id": "1kGPQ02MGMJn"
   },
   "source": [
    "A continuación preprocesaremos los textos y los convertiremos en vectores. Esto con el propósito de tener información numérica que pueda ser interpretable por los modelos que crearemos después.\n"
   ]
  },
  {
   "cell_type": "code",
   "execution_count": null,
   "metadata": {
    "colab": {
     "base_uri": "https://localhost:8080/",
     "height": 280
    },
    "id": "K42xBf4zGMJo",
    "outputId": "d5d9c375-bc9b-4b41-ebc5-82996edc7f08"
   },
   "outputs": [
    {
     "data": {
      "text/html": [
       "\n",
       "  <div id=\"df-88174d9d-8dc5-4979-adb7-1d024060a494\">\n",
       "    <div class=\"colab-df-container\">\n",
       "      <div>\n",
       "<style scoped>\n",
       "    .dataframe tbody tr th:only-of-type {\n",
       "        vertical-align: middle;\n",
       "    }\n",
       "\n",
       "    .dataframe tbody tr th {\n",
       "        vertical-align: top;\n",
       "    }\n",
       "\n",
       "    .dataframe thead th {\n",
       "        text-align: right;\n",
       "    }\n",
       "</style>\n",
       "<table border=\"1\" class=\"dataframe\">\n",
       "  <thead>\n",
       "    <tr style=\"text-align: right;\">\n",
       "      <th></th>\n",
       "      <th>TIPO_RECLAMO</th>\n",
       "      <th>abajo</th>\n",
       "      <th>abandono</th>\n",
       "      <th>abdominal</th>\n",
       "      <th>abierta</th>\n",
       "      <th>abierto</th>\n",
       "      <th>abogado</th>\n",
       "      <th>abogados</th>\n",
       "      <th>abollon</th>\n",
       "      <th>abonado</th>\n",
       "      <th>...</th>\n",
       "      <th>vulnere</th>\n",
       "      <th>web</th>\n",
       "      <th>webpay</th>\n",
       "      <th>wp</th>\n",
       "      <th>www</th>\n",
       "      <th>xx</th>\n",
       "      <th>yendo</th>\n",
       "      <th>zenit</th>\n",
       "      <th>zona</th>\n",
       "      <th>zurich</th>\n",
       "    </tr>\n",
       "  </thead>\n",
       "  <tbody>\n",
       "    <tr>\n",
       "      <th>0</th>\n",
       "      <td>Reclamo Seguros</td>\n",
       "      <td>0</td>\n",
       "      <td>0</td>\n",
       "      <td>0</td>\n",
       "      <td>0</td>\n",
       "      <td>0</td>\n",
       "      <td>0</td>\n",
       "      <td>0</td>\n",
       "      <td>0</td>\n",
       "      <td>0</td>\n",
       "      <td>...</td>\n",
       "      <td>0</td>\n",
       "      <td>0</td>\n",
       "      <td>0</td>\n",
       "      <td>0</td>\n",
       "      <td>0</td>\n",
       "      <td>1</td>\n",
       "      <td>0</td>\n",
       "      <td>0</td>\n",
       "      <td>0</td>\n",
       "      <td>1</td>\n",
       "    </tr>\n",
       "    <tr>\n",
       "      <th>1</th>\n",
       "      <td>Reclamo Seguros</td>\n",
       "      <td>0</td>\n",
       "      <td>0</td>\n",
       "      <td>0</td>\n",
       "      <td>0</td>\n",
       "      <td>0</td>\n",
       "      <td>0</td>\n",
       "      <td>0</td>\n",
       "      <td>0</td>\n",
       "      <td>0</td>\n",
       "      <td>...</td>\n",
       "      <td>0</td>\n",
       "      <td>0</td>\n",
       "      <td>0</td>\n",
       "      <td>0</td>\n",
       "      <td>0</td>\n",
       "      <td>1</td>\n",
       "      <td>0</td>\n",
       "      <td>0</td>\n",
       "      <td>0</td>\n",
       "      <td>0</td>\n",
       "    </tr>\n",
       "    <tr>\n",
       "      <th>2</th>\n",
       "      <td>Reclamo Seguros</td>\n",
       "      <td>0</td>\n",
       "      <td>0</td>\n",
       "      <td>0</td>\n",
       "      <td>0</td>\n",
       "      <td>0</td>\n",
       "      <td>0</td>\n",
       "      <td>0</td>\n",
       "      <td>0</td>\n",
       "      <td>0</td>\n",
       "      <td>...</td>\n",
       "      <td>0</td>\n",
       "      <td>0</td>\n",
       "      <td>0</td>\n",
       "      <td>0</td>\n",
       "      <td>0</td>\n",
       "      <td>6</td>\n",
       "      <td>0</td>\n",
       "      <td>0</td>\n",
       "      <td>0</td>\n",
       "      <td>0</td>\n",
       "    </tr>\n",
       "    <tr>\n",
       "      <th>3</th>\n",
       "      <td>Reclamo Seguros</td>\n",
       "      <td>0</td>\n",
       "      <td>0</td>\n",
       "      <td>0</td>\n",
       "      <td>0</td>\n",
       "      <td>0</td>\n",
       "      <td>0</td>\n",
       "      <td>0</td>\n",
       "      <td>0</td>\n",
       "      <td>0</td>\n",
       "      <td>...</td>\n",
       "      <td>0</td>\n",
       "      <td>0</td>\n",
       "      <td>0</td>\n",
       "      <td>0</td>\n",
       "      <td>0</td>\n",
       "      <td>0</td>\n",
       "      <td>0</td>\n",
       "      <td>0</td>\n",
       "      <td>0</td>\n",
       "      <td>0</td>\n",
       "    </tr>\n",
       "    <tr>\n",
       "      <th>4</th>\n",
       "      <td>Reclamo Valores</td>\n",
       "      <td>0</td>\n",
       "      <td>0</td>\n",
       "      <td>0</td>\n",
       "      <td>0</td>\n",
       "      <td>0</td>\n",
       "      <td>0</td>\n",
       "      <td>0</td>\n",
       "      <td>0</td>\n",
       "      <td>0</td>\n",
       "      <td>...</td>\n",
       "      <td>0</td>\n",
       "      <td>0</td>\n",
       "      <td>0</td>\n",
       "      <td>0</td>\n",
       "      <td>0</td>\n",
       "      <td>0</td>\n",
       "      <td>0</td>\n",
       "      <td>0</td>\n",
       "      <td>0</td>\n",
       "      <td>0</td>\n",
       "    </tr>\n",
       "  </tbody>\n",
       "</table>\n",
       "<p>5 rows × 5312 columns</p>\n",
       "</div>\n",
       "      <button class=\"colab-df-convert\" onclick=\"convertToInteractive('df-88174d9d-8dc5-4979-adb7-1d024060a494')\"\n",
       "              title=\"Convert this dataframe to an interactive table.\"\n",
       "              style=\"display:none;\">\n",
       "        \n",
       "  <svg xmlns=\"http://www.w3.org/2000/svg\" height=\"24px\"viewBox=\"0 0 24 24\"\n",
       "       width=\"24px\">\n",
       "    <path d=\"M0 0h24v24H0V0z\" fill=\"none\"/>\n",
       "    <path d=\"M18.56 5.44l.94 2.06.94-2.06 2.06-.94-2.06-.94-.94-2.06-.94 2.06-2.06.94zm-11 1L8.5 8.5l.94-2.06 2.06-.94-2.06-.94L8.5 2.5l-.94 2.06-2.06.94zm10 10l.94 2.06.94-2.06 2.06-.94-2.06-.94-.94-2.06-.94 2.06-2.06.94z\"/><path d=\"M17.41 7.96l-1.37-1.37c-.4-.4-.92-.59-1.43-.59-.52 0-1.04.2-1.43.59L10.3 9.45l-7.72 7.72c-.78.78-.78 2.05 0 2.83L4 21.41c.39.39.9.59 1.41.59.51 0 1.02-.2 1.41-.59l7.78-7.78 2.81-2.81c.8-.78.8-2.07 0-2.86zM5.41 20L4 18.59l7.72-7.72 1.47 1.35L5.41 20z\"/>\n",
       "  </svg>\n",
       "      </button>\n",
       "      \n",
       "  <style>\n",
       "    .colab-df-container {\n",
       "      display:flex;\n",
       "      flex-wrap:wrap;\n",
       "      gap: 12px;\n",
       "    }\n",
       "\n",
       "    .colab-df-convert {\n",
       "      background-color: #E8F0FE;\n",
       "      border: none;\n",
       "      border-radius: 50%;\n",
       "      cursor: pointer;\n",
       "      display: none;\n",
       "      fill: #1967D2;\n",
       "      height: 32px;\n",
       "      padding: 0 0 0 0;\n",
       "      width: 32px;\n",
       "    }\n",
       "\n",
       "    .colab-df-convert:hover {\n",
       "      background-color: #E2EBFA;\n",
       "      box-shadow: 0px 1px 2px rgba(60, 64, 67, 0.3), 0px 1px 3px 1px rgba(60, 64, 67, 0.15);\n",
       "      fill: #174EA6;\n",
       "    }\n",
       "\n",
       "    [theme=dark] .colab-df-convert {\n",
       "      background-color: #3B4455;\n",
       "      fill: #D2E3FC;\n",
       "    }\n",
       "\n",
       "    [theme=dark] .colab-df-convert:hover {\n",
       "      background-color: #434B5C;\n",
       "      box-shadow: 0px 1px 3px 1px rgba(0, 0, 0, 0.15);\n",
       "      filter: drop-shadow(0px 1px 2px rgba(0, 0, 0, 0.3));\n",
       "      fill: #FFFFFF;\n",
       "    }\n",
       "  </style>\n",
       "\n",
       "      <script>\n",
       "        const buttonEl =\n",
       "          document.querySelector('#df-88174d9d-8dc5-4979-adb7-1d024060a494 button.colab-df-convert');\n",
       "        buttonEl.style.display =\n",
       "          google.colab.kernel.accessAllowed ? 'block' : 'none';\n",
       "\n",
       "        async function convertToInteractive(key) {\n",
       "          const element = document.querySelector('#df-88174d9d-8dc5-4979-adb7-1d024060a494');\n",
       "          const dataTable =\n",
       "            await google.colab.kernel.invokeFunction('convertToInteractive',\n",
       "                                                     [key], {});\n",
       "          if (!dataTable) return;\n",
       "\n",
       "          const docLinkHtml = 'Like what you see? Visit the ' +\n",
       "            '<a target=\"_blank\" href=https://colab.research.google.com/notebooks/data_table.ipynb>data table notebook</a>'\n",
       "            + ' to learn more about interactive tables.';\n",
       "          element.innerHTML = '';\n",
       "          dataTable['output_type'] = 'display_data';\n",
       "          await google.colab.output.renderOutput(dataTable, element);\n",
       "          const docLink = document.createElement('div');\n",
       "          docLink.innerHTML = docLinkHtml;\n",
       "          element.appendChild(docLink);\n",
       "        }\n",
       "      </script>\n",
       "    </div>\n",
       "  </div>\n",
       "  "
      ],
      "text/plain": [
       "      TIPO_RECLAMO  abajo  abandono  abdominal  abierta  abierto  abogado  \\\n",
       "0  Reclamo Seguros      0         0          0        0        0        0   \n",
       "1  Reclamo Seguros      0         0          0        0        0        0   \n",
       "2  Reclamo Seguros      0         0          0        0        0        0   \n",
       "3  Reclamo Seguros      0         0          0        0        0        0   \n",
       "4  Reclamo Valores      0         0          0        0        0        0   \n",
       "\n",
       "   abogados  abollon  abonado  ...  vulnere  web  webpay  wp  www  xx  yendo  \\\n",
       "0         0        0        0  ...        0    0       0   0    0   1      0   \n",
       "1         0        0        0  ...        0    0       0   0    0   1      0   \n",
       "2         0        0        0  ...        0    0       0   0    0   6      0   \n",
       "3         0        0        0  ...        0    0       0   0    0   0      0   \n",
       "4         0        0        0  ...        0    0       0   0    0   0      0   \n",
       "\n",
       "   zenit  zona  zurich  \n",
       "0      0     0       1  \n",
       "1      0     0       0  \n",
       "2      0     0       0  \n",
       "3      0     0       0  \n",
       "4      0     0       0  \n",
       "\n",
       "[5 rows x 5312 columns]"
      ]
     },
     "execution_count": 6,
     "metadata": {},
     "output_type": "execute_result"
    }
   ],
   "source": [
    "import requests\n",
    "import re\n",
    "import string\n",
    "from sklearn.feature_extraction.text import CountVectorizer\n",
    "\n",
    "def remove_numbers(text):\n",
    "    text = re.sub(r\"[0-9]\", \" \", text)\n",
    "    return \" \".join(text.split())\n",
    "\n",
    "\n",
    "def remove_unprintable_(text):\n",
    "    printable = set(string.printable + \"ñáéíóúü\" + \"ÑÁÉÍÓÚÜ\")\n",
    "    text = \"\".join(filter(lambda x: x in printable, text))\n",
    "    return text\n",
    "\n",
    "def remove_punctuation(text):\n",
    "    pattern = re.compile(r\"[^\\w\\sáéíóúüñÁÉÍÓÚÜÑ]\")\n",
    "    t = pattern.sub(r\" \", text)\n",
    "    return re.sub(\" +\", \" \", t)\n",
    "\n",
    "\n",
    "def reduce_spam(text):\n",
    "    text = re.sub(r\"(\\w+)(\\s+\\1){2,}\", r\"\\1\", text)\n",
    "    text = re.sub(r\"(\\w+\\s+\\w+)(\\s+\\1){2,}\", r\"\\1\", text)\n",
    "    return text\n",
    "\n",
    "\n",
    "def remove_vowels_accents(text):\n",
    "    return (\n",
    "        text.replace(\"á\", \"a\")\n",
    "        .replace(\"é\", \"e\")\n",
    "        .replace(\"í\", \"i\")\n",
    "        .replace(\"ó\", \"o\")\n",
    "        .replace(\"ú\", \"u\")\n",
    "        .replace(\"ü\", \"u\")\n",
    "    )\n",
    "\n",
    "def remove_stopwords(text, stopwords_list):\n",
    "    return \" \".join(\n",
    "        [word for word in str(text).split() if word not in stopwords_list]\n",
    "    )\n",
    "\n",
    "url = \"https://raw.githubusercontent.com/jorgeortizfuentes/spanish_nlp/main/utilities/stopwords_es.txt\"\n",
    "r = requests.get(url)\n",
    "\n",
    "stopwords_list = r.text.splitlines()\n",
    "\n",
    "def preprocesar(text):\n",
    "    text = text.lower()\n",
    "    text = remove_numbers(text)\n",
    "    text = remove_unprintable_(text)\n",
    "    text = remove_punctuation(text)\n",
    "    text = reduce_spam(text)\n",
    "    text = remove_stopwords(text, stopwords_list)\n",
    "    text = remove_vowels_accents(text)\n",
    "    return text.strip()\n",
    "\n",
    "\n",
    "# Extraer los vectores\n",
    "vectorizer = CountVectorizer(preprocessor=preprocesar, min_df=2)\n",
    "vectors = vectorizer.fit_transform(df[\"TEXTO_COMPLETO\"])\n",
    "\n",
    "# Incorporar los vectores como dataframe\n",
    "X = pd.DataFrame(vectors.toarray(), columns=vectorizer.get_feature_names_out())\n",
    "y = df[\"TIPO_RECLAMO\"]\n",
    "\n",
    "df_vectorizado = pd.concat([y, X], axis=1)\n",
    "df_vectorizado.head()\n"
   ]
  },
  {
   "cell_type": "markdown",
   "metadata": {
    "id": "B3b92IPxXQWn",
    "pycharm": {}
   },
   "source": [
    "### Pregunta 3\n",
    "\n",
    "Cargue los datos e indique lo siguiente:\n",
    "\n",
    "- Tamaño del dataset vectorizado (cantidad de instancias y atributos).\n",
    "- ¿Cuántas clases hay en la columna \"TIPO_RECLAMO\" y cuáles son sus nombres?\n",
    "- ¿Cuántas instancias hay en cada clase?\n",
    "\n",
    "Indique en cada caso cómo obtuvo la respuesta, es decir, adjunte código.\n"
   ]
  },
  {
   "cell_type": "code",
   "execution_count": null,
   "metadata": {
    "id": "8VRnfj7LGMJo"
   },
   "outputs": [],
   "source": []
  },
  {
   "cell_type": "markdown",
   "metadata": {
    "id": "JXcHtXFUXQW1",
    "pycharm": {}
   },
   "source": [
    "### Pregunta 4\n"
   ]
  },
  {
   "cell_type": "markdown",
   "metadata": {
    "id": "651JYu7VXQW2",
    "pycharm": {}
   },
   "source": [
    "En esta parte useremos el clasificador **Decision Tree**. Veremos distintas formas de usarlo, y vamos a compararlas utilizando diversas métricas.\n"
   ]
  },
  {
   "cell_type": "markdown",
   "metadata": {
    "id": "6HRB6oDBXQW3",
    "pycharm": {}
   },
   "source": [
    "Usando el siguiente código, entrenaremos un clasificador con los datos cargados (X, y) y haremos una predicción sobre los mismos datos empleando dicho clasificador entrenado. Luego, se mostrarán las métricas de **accuracy**, **precision**, **recall** y **f1-score**.\n"
   ]
  },
  {
   "cell_type": "code",
   "execution_count": null,
   "metadata": {
    "ExecuteTime": {
     "end_time": "2020-09-28T01:11:33.665446Z",
     "start_time": "2020-09-28T01:11:33.559713Z"
    },
    "colab": {
     "base_uri": "https://localhost:8080/"
    },
    "id": "TIKF6nyJXQW3",
    "outputId": "f24ed812-8a7a-44f7-f87e-80da86d88c84",
    "pycharm": {}
   },
   "outputs": [
    {
     "name": "stdout",
     "output_type": "stream",
     "text": [
      "Accuracy: 1.0\n",
      "                 precision    recall  f1-score   support\n",
      "\n",
      "Reclamo Seguros       1.00      1.00      1.00       662\n",
      "Reclamo Valores       1.00      1.00      1.00       337\n",
      "\n",
      "       accuracy                           1.00       999\n",
      "      macro avg       1.00      1.00      1.00       999\n",
      "   weighted avg       1.00      1.00      1.00       999\n",
      "\n"
     ]
    }
   ],
   "source": [
    "from sklearn.tree import DecisionTreeClassifier\n",
    "from sklearn.metrics import accuracy_score\n",
    "from sklearn.metrics import classification_report\n",
    "\n",
    "clf = DecisionTreeClassifier()\n",
    "clf.fit(X, y)\n",
    "y_pred = clf.predict(X)\n",
    "print(\"Accuracy:\", accuracy_score(y, y_pred))\n",
    "print(classification_report(y, y_pred))"
   ]
  },
  {
   "cell_type": "markdown",
   "metadata": {
    "id": "pNEQK4DYXQW6",
    "pycharm": {}
   },
   "source": [
    "De acuerdo a los resultados obtenidos:\n",
    "\n",
    "- ¿Qué opina sobre las predicciones?\n",
    "- ¿Qué problema puede identificar?\n"
   ]
  },
  {
   "cell_type": "markdown",
   "metadata": {
    "id": "JhWup6DvGMJr"
   },
   "source": [
    "**Respuesta:**\n",
    "\n"
   ]
  },
  {
   "cell_type": "markdown",
   "metadata": {
    "id": "ZfTp-Sn3XADF"
   },
   "source": [
    "### Pregunta 5.1\n"
   ]
  },
  {
   "cell_type": "markdown",
   "metadata": {
    "id": "Z4uSWz6fXADG"
   },
   "source": [
    "Ahora lo que haremos será dividir nuestro dataset en 70% entrenar (**_training set_**) y 30% para testear (**_testing set_**). Use la función **_train_test_split()_** de _sklearn_ y utilice las variables `X_train, X_test, y_train, y_test`.\n"
   ]
  },
  {
   "cell_type": "markdown",
   "metadata": {
    "id": "K2O9O-2HXADG"
   },
   "source": [
    "Escriba el código necesario para dividir los datos, entrenar el modelo e indicar el **accuracy**, **precision** y **recall** del clasificador.\n",
    "\n",
    "Entrene usando el **_training set_** y pruebe sobre el **_testing set_**, en base a la división 70%-30%, respectivamente\n",
    "\n",
    "**NOTA: para dividir el dataset use el parámetro `stratify=y`.**\n"
   ]
  },
  {
   "cell_type": "code",
   "execution_count": null,
   "metadata": {
    "ExecuteTime": {
     "end_time": "2020-09-28T01:11:33.683493Z",
     "start_time": "2020-09-28T01:11:33.667451Z"
    },
    "id": "cYvg3e6nXQW9",
    "pycharm": {}
   },
   "outputs": [],
   "source": [
    "# Recuerde usar las variables X_train, X_test, y_train, y_test\n"
   ]
  },
  {
   "cell_type": "markdown",
   "metadata": {
    "id": "ynsWofRRXADJ"
   },
   "source": [
    "### Pregunta 5.2.\n",
    "\n",
    "Según el resultado obtenido en la pregunta anterior, responda lo siguiente:\n",
    "\n",
    "1. ¿Cuál clasificador tiene peores resultados? ¿Por qué?\n",
    "2. ¿Cuál de las dos formas de entrenar el clasificador prefiere? Justifique su respuesta\n"
   ]
  },
  {
   "cell_type": "markdown",
   "metadata": {
    "id": "kYOSz94yHwSF"
   },
   "source": [
    "**Respuesta:**"
   ]
  },
  {
   "cell_type": "markdown",
   "metadata": {
    "id": "tL6TPIutXQXD",
    "pycharm": {}
   },
   "source": [
    "### Pregunta 6\n",
    "\n",
    "El siguiente código genera una matriz de confusión de los resultados de clasificación de la pregunta anterior. Ejecute el bloque completo para visualizar el gráfico. Interprete la matriz y comente sobre cada uno de los valores distintos de 0 en la matriz y describa lo que representa.\n",
    "\n",
    "_Verifique que los resultados que se imprimen concuerden con su respuesta (por el factor aleatorio del estimador). Nota: Para obtener un comportamiento determinista existe el parámetro **random_state**, por ejemplo: clf = DecisionTreeClassifier(random_state=2)._\n"
   ]
  },
  {
   "cell_type": "code",
   "execution_count": null,
   "metadata": {
    "id": "_inbTdXl55-0"
   },
   "outputs": [],
   "source": [
    "# EJECUTAR ESTE BLOQUE\n",
    "import seaborn as sns\n",
    "import matplotlib.pyplot as plt\n",
    "\n",
    "from sklearn.metrics import confusion_matrix\n",
    "from sklearn.utils.multiclass import unique_labels\n",
    "\n",
    "# Compute confusion matrix. By default is not normalized (normalize=None)\n",
    "# If necessary change 'y_pred' according to your variable name\n",
    "cm = confusion_matrix(y_test, y_pred)\n",
    "\n",
    "# Only use the labels that appear in the data\n",
    "classes = unique_labels(y_test, y_pred)\n",
    "\n",
    "df = pd.DataFrame(cm, index=classes, columns=classes)\n",
    "\n",
    "g = sns.heatmap(df, annot=True, cmap=\"Blues\")\n",
    "g.set_yticklabels(g.get_yticklabels(), rotation=0)\n",
    "\n",
    "plt.title('Confusion matrix \\n')\n",
    "plt.xlabel('Predicted label')\n",
    "plt.ylabel('True label')\n",
    "\n",
    "plt.autoscale()\n"
   ]
  },
  {
   "cell_type": "markdown",
   "metadata": {
    "id": "EioZq9ZEXQXG",
    "pycharm": {}
   },
   "source": [
    "**Respuesta:**\n"
   ]
  },
  {
   "cell_type": "markdown",
   "metadata": {
    "id": "8nnZ5QTPXADM"
   },
   "source": [
    "### Pregunta 7"
   ]
  },
  {
   "cell_type": "markdown",
   "metadata": {
    "id": "XmZSQQSJXADN"
   },
   "source": [
    "Para este clasificador utilizaremos Cross-validation. Con cross-validation, el conjunto de entrenamiento se divide en $k$ conjuntos disjuntos; se entrena sobre los datos correspondientes a $k-1$ de éstos, y se evalúa sobre el conjunto restante. Esto se repite $k$ veces, evaluando siempre sobre un conjunto distinto. Teniendo en cuenta el parámetro $k$, a éste método se le llama $k$-fold cross-validation.\n",
    "\n",
    "El código que está a continuación realizará 10-fold cross-validation usando Decision Tree sobre los datos. La forma de estimar el rendimiento del clasificador es, entre otras cosas, calculando el promedio de todos los k-folds.\n",
    "\n",
    "Además se muestra la predición sobre los datos para testear.\n"
   ]
  },
  {
   "cell_type": "code",
   "execution_count": null,
   "metadata": {
    "ExecuteTime": {
     "end_time": "2020-09-28T01:11:34.015989Z",
     "start_time": "2020-09-28T01:11:33.939789Z"
    },
    "id": "gJyyPpzxXQXI",
    "pycharm": {}
   },
   "outputs": [],
   "source": [
    "# EJECUTAR ESTE BLOQUE\n",
    "\n",
    "from sklearn.model_selection import cross_validate\n",
    "import numpy as np\n",
    "\n",
    "scoring = ['precision_macro', 'recall_macro', 'accuracy', 'f1_macro']\n",
    "cv_results = cross_validate(\n",
    "    clf, X, y, cv=10, scoring=scoring, return_train_score=True)\n",
    "\n",
    "print('Promedio Precision:', np.mean(cv_results['test_precision_macro']))\n",
    "print('Promedio Recall:', np.mean(cv_results['test_recall_macro']))\n",
    "print('Promedio F1-score:', np.mean(cv_results['test_f1_macro']))\n",
    "print('Promedio Accucary:', np.mean(cv_results['test_accuracy']))\n",
    "\n",
    "# Si quisieramos mostrar el resultado de cada k-fold, deberiamos quitar la\n",
    "# funcion np.mean la cual retorna el promedio. Esto mostraría una lista con el resultado de cada fold\n"
   ]
  },
  {
   "cell_type": "markdown",
   "metadata": {
    "id": "U6_ceSH0XQXK",
    "pycharm": {}
   },
   "source": [
    "- Compare los valores de las métricas con respecto a lo obtenido en la pregunta 5. Comente en qué difieren y por qué.\n",
    "- ¿Qué beneficios tiene emplear cross-validation?\n",
    "\n"
   ]
  },
  {
   "cell_type": "markdown",
   "metadata": {
    "id": "HUxJzb3HH40p"
   },
   "source": [
    "**Respuesta:**\n"
   ]
  }
 ],
 "metadata": {
  "anaconda-cloud": {},
  "colab": {
   "collapsed_sections": [],
   "provenance": []
  },
  "hide_input": false,
  "kernelspec": {
   "display_name": "Python 3 (ipykernel)",
   "language": "python",
   "name": "python3"
  },
  "language_info": {
   "codemirror_mode": {
    "name": "ipython",
    "version": 3
   },
   "file_extension": ".py",
   "mimetype": "text/x-python",
   "name": "python",
   "nbconvert_exporter": "python",
   "pygments_lexer": "ipython3",
   "version": "3.9.7"
  },
  "toc": {
   "base_numbering": 1,
   "nav_menu": {},
   "number_sections": true,
   "sideBar": true,
   "skip_h1_title": false,
   "title_cell": "Table of Contents",
   "title_sidebar": "Contents",
   "toc_cell": false,
   "toc_position": {},
   "toc_section_display": true,
   "toc_window_display": false
  },
  "varInspector": {
   "cols": {
    "lenName": 16,
    "lenType": 16,
    "lenVar": 40
   },
   "kernels_config": {
    "python": {
     "delete_cmd_postfix": "",
     "delete_cmd_prefix": "del ",
     "library": "var_list.py",
     "varRefreshCmd": "print(var_dic_list())"
    },
    "r": {
     "delete_cmd_postfix": ") ",
     "delete_cmd_prefix": "rm(",
     "library": "var_list.r",
     "varRefreshCmd": "cat(var_dic_list()) "
    }
   },
   "types_to_exclude": [
    "module",
    "function",
    "builtin_function_or_method",
    "instance",
    "_Feature"
   ],
   "window_display": false
  },
  "vscode": {
   "interpreter": {
    "hash": "456879ad4d789d0bb50a3af188487c3c209cc355cb3a8f3432393e5e9fc6bb79"
   }
  }
 },
 "nbformat": 4,
 "nbformat_minor": 1
}
